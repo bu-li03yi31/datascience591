{
 "cells": [
  {
   "cell_type": "markdown",
   "metadata": {},
   "source": [
    "(In order to load the stylesheet of this notebook, execute the last code cell in this notebook)"
   ]
  },
  {
   "cell_type": "markdown",
   "metadata": {},
   "source": [
    "# Recommender System for Amazon Electronics"
   ]
  },
  {
   "cell_type": "markdown",
   "metadata": {},
   "source": [
    "In this assignment, we will be working with the [Amazon dataset](http://cs-people.bu.edu/kzhao/teaching/amazon_reviews_Electronics.tar.gz). You will build a recommender system to make predictions related to reviews of Electronics products on Amazon.\n",
    "\n",
    "Your grades will be determined by your performance on the predictive tasks as well as a brief written report about the approaches you took.\n",
    "\n",
    "This assignment should be completed **individually**."
   ]
  },
  {
   "cell_type": "markdown",
   "metadata": {},
   "source": [
    "## Files"
   ]
  },
  {
   "cell_type": "markdown",
   "metadata": {},
   "source": [
    "**train.json** 1,000,000 reviews to be used for training. It is not necessary to use all reviews for training if doing so proves too computationally intensive. The fields in this file are:\n",
    "\n",
    "* **reviewerID** The ID of the reviewer. This is a hashed user identifier from Amazon.\n",
    "\n",
    "* **asin** The ID of the item. This is a hashed product identifier from Amazon.\n",
    "\n",
    "* **overall** The rating of reviewer gave the item.\n",
    "\n",
    "* **helpful** The helpfulness votes for the review. This has 2 subfields, 'nHelpful' and 'outOf'. The latter is the total number of votes this review received. The former is the number of those that considered the review to be helpful.\n",
    "\n",
    "* **reviewText** The text of the review.\n",
    "\n",
    "* **summary** The summary of the review.\n",
    "\n",
    "* **unixReviewTime** The time of the review in seconds since 1970."
   ]
  },
  {
   "cell_type": "markdown",
   "metadata": {},
   "source": [
    "**meta.json** Contains metadata of the items:\n",
    "\n",
    "* **asin** The ID of the item.\n",
    "\n",
    "* **categories** The category labels of the item being reviewed.\n",
    "\n",
    "* **price** The price of the item.\n",
    "\n",
    "* **brand** The brand of the item."
   ]
  },
  {
   "cell_type": "markdown",
   "metadata": {},
   "source": [
    "**pairs_Rating.txt** The pairs (reviewerID and asin) on which you are to predict ratings.\n",
    "\n",
    "**pairs_Purchase.txt** The pairs on which you are to predict whether a user purchased an item or not.\n",
    "\n",
    "**pairs_Helpful.txt** The pairs on which you are to predict helpfulness votes. A third column in this file is the total number of votes from which you should predict how many were helpful."
   ]
  },
  {
   "cell_type": "markdown",
   "metadata": {},
   "source": [
    "**helpful.json** The review data associated with the helpfulness prediction test set. The 'nHelpful' field has been removed from this data since that is the value you need to predict above. This data will only be of use for the helpfulness prediction task."
   ]
  },
  {
   "cell_type": "markdown",
   "metadata": {},
   "source": [
    "**baseline.py** A simple baseline for each task."
   ]
  },
  {
   "cell_type": "markdown",
   "metadata": {
    "collapsed": true
   },
   "source": [
    "## Tasks"
   ]
  },
  {
   "cell_type": "markdown",
   "metadata": {},
   "source": [
    "**Rating prediction** Predict people's star ratings as accurately as possible for those (reviewerID, asin) pairs in 'pairs_Rating.txt'. Accuracy will be measured in terms of the [root mean-squared error (RMSE)](http://www.kaggle.com/wiki/RootMeanSquaredError).\n",
    "\n",
    "**Purchase prediction** Predict given a (reviewerID, asin) pair from 'pairs_Purchase.txt' whether the user purchased the item (really, whether it was one of the items they reviewed). Accuracy will be measured in terms of the [categorization accuracy](http://www.kaggle.com/wiki/HammingLoss) (1 minus the Hamming loss).\n",
    "\n",
    "**Helpfulness prediction** Predic whether a user's review of an item will be considered helpful. The file 'pairs_Helpful.txt' contains (reviewerID, asin) pairs with a third column containing the number of votes the user's review of the item received. You must predict how many of them were helpful. Accuracy will be measured in terms of the total [absolute error](http://www.kaggle.com/wiki/AbsoluteError), i.e. you are penalized one according to the difference |nHelpful - prediction|, where 'nHelpful' is the number of helpful votes the review actually received, and 'prediction' is your prediction of this quantity.\n",
    "\n",
    "We set up competitions on Kaggle to keep track of your results compared to those of other members of the class. The leaderboard will show your results on half of the test data, but your ultimate score will depend on your predictions across the whole dataset.\n",
    "* Kaggle competition: [rating prediction](https://inclass.kaggle.com/c/cs591-hw3-rating-prediction3) click here to [join](https://kaggle.com/join/datascience16rating)\n",
    "* Kaggle competition: [purchase prediction](https://inclass.kaggle.com/c/cs591-hw3-purchase-prediction) click here to [join](https://kaggle.com/join/datascience16purchase)\n",
    "* Kaggle competition: [helpfulness prediction](https://inclass.kaggle.com/c/cs591-hw3-helpful-prediction) click here to [join](https://kaggle.com/join/datascience16helpful)"
   ]
  },
  {
   "cell_type": "markdown",
   "metadata": {},
   "source": [
    "## Grading and Evaluation"
   ]
  },
  {
   "cell_type": "markdown",
   "metadata": {},
   "source": [
    "You will be graded on the following aspects.\n",
    "\n",
    "* Your written report. This should describe the approaches you took to each of the 3 tasks. To obtain good performance, you should not need to invent new approaches (though you are more than welcome to) but rather you will be graded based on your decision to apply reasonable approaches to each of the given tasks. (**10pts** for each task)\n",
    "\n",
    "* Your ability to obtain a solution which outperforms the baselines on the unseen portion of the test data. Obtaining full marks requires a solution which is substantially better (at least several percent) than baseline performance. (**10pts** for each task)\n",
    "\n",
    "* Your ranking for each of the three tasks compared to other students in the class. (**5pts** for each task)\n",
    "\n",
    "* Obtain a solution which outperforms the baselines on the seen portion of the test data (the leaderboard). \n",
    "(**5pts** for each task)"
   ]
  },
  {
   "cell_type": "markdown",
   "metadata": {},
   "source": [
    "## Baselines"
   ]
  },
  {
   "cell_type": "markdown",
   "metadata": {},
   "source": [
    "Simple baselines have been provided for each of the 3 tasks. These are included in 'baselines.py' among the files above. These 3 baselines operate as follows:\n",
    "\n",
    "**Rating prediction** Returns the global average rating, or the user's average if you have seen them before in the training data.\n",
    "\n",
    "**Purchase prediction** Finds the most popular products that account for 50% of purchases in the training data. Return '1' whenever such a product is seen at test time, '0' otherwise.\n",
    "\n",
    "** Helpfulness prediction** Multiplies the number of votes by the global average helpfulness rate, or the user's rate if we saw this user in the training data.\n",
    "\n",
    "Running 'baseline.py' produces 3 files containing predicted outputs. Your submission files should have the same format."
   ]
  },
  {
   "cell_type": "markdown",
   "metadata": {},
   "source": [
    "## Dataset Citation"
   ]
  },
  {
   "cell_type": "markdown",
   "metadata": {},
   "source": [
    "**Image-based recommendations on styles and substitutes** J. McAuley, C. Targett, J. Shi, A. van den Hengel *SIGIR*, 2015\n",
    "\n",
    "**Inferring networks of substitutable and complementary products** J. McAuley, R. Pandey, J. Leskovec *Knowledge Discovery and Data Mining*, 2015"
   ]
  },
  {
   "cell_type": "markdown",
   "metadata": {},
   "source": [
    "# 1.Rating Prediction"
   ]
  },
  {
   "cell_type": "code",
   "execution_count": 1,
   "metadata": {
    "collapsed": true
   },
   "outputs": [],
   "source": [
    "import csv\n",
    "import pandas as pd\n",
    "import numpy as np\n",
    "import json\n",
    "\n",
    "STOPWORDS_FD = 'stopwords'\n",
    "STOPWORDS = {}\n",
    "from collections import defaultdict\n",
    "\n",
    "# From Homework 2\n",
    "def get_words(filename):\n",
    "    words = {}\n",
    "    for line in open(filename):\n",
    "        word = line.rstrip()\n",
    "        words[word] = word\n",
    "    return words\n",
    "\n",
    "def readJson(f):\n",
    "    for l in open(f):\n",
    "        yield eval(l)"
   ]
  },
  {
   "cell_type": "code",
   "execution_count": 42,
   "metadata": {
    "collapsed": false
   },
   "outputs": [],
   "source": [
    "arr = []\n",
    "for l in readJson('train.json'):\n",
    "    tmp = [l['reviewerID'],l['asin'],l['overall']]\n",
    "    arr.append(tmp)\n",
    "\n",
    "df = pd.DataFrame(arr)\n",
    "df.to_csv('reviewerID-asin.csv')"
   ]
  },
  {
   "cell_type": "code",
   "execution_count": 3,
   "metadata": {
    "collapsed": false,
    "scrolled": false
   },
   "outputs": [],
   "source": [
    "df = pd.read_csv('reviewerID-asin.csv')\n",
    "users = []\n",
    "items = []\n",
    "for index,item in df.iterrows():\n",
    "    s = str(item[1])\n",
    "    i = str(item[2])\n",
    "    users.append(s)\n",
    "    items.append(i)\n",
    "    \n",
    "users = list(set(users))\n",
    "items = list(set(items))\n",
    "\n",
    "df1 = pd.DataFrame(users)\n",
    "df2 = pd.DataFrame(items)\n",
    "df1.to_csv('train_users.csv')\n",
    "df2.to_csv('train_items.csv')"
   ]
  },
  {
   "cell_type": "code",
   "execution_count": 68,
   "metadata": {
    "collapsed": false
   },
   "outputs": [],
   "source": [
    "train_users = pd.read_csv('train_users.csv')\n",
    "train_items = pd.read_csv('train_items.csv')\n",
    "overall_rating = pd.read_csv('reviewerID-asin.csv')\n",
    "\n",
    "user_avg_rating = {}\n",
    "train_users.columns = ['index','user']\n",
    "train_items.columns = ['index','item']\n",
    "\n",
    "overall_rating.columns = ['index','user_id', 'item', 'rating']\n",
    "\n",
    "group_by_user_avg_rating = overall_rating.groupby(['user_id'])['rating'].mean()\n",
    "\n",
    "test = pd.DataFrame(group_by_user_avg_rating)\n",
    "\n",
    "item_total = 0\n",
    "item_count = 0\n",
    "user_total = 0\n",
    "user_count = 0\n",
    "\n",
    "user_avg_rating = {}# average rating of a user has given\n",
    "for index, item in test.iterrows():\n",
    "    user_count = user_count + 1\n",
    "    _id = str(index)\n",
    "    rating = item\n",
    "    user_total = user_total + float(rating)\n",
    "    user_avg_rating[_id] = float(rating)\n",
    "\n",
    "group_by_item_avg_rating = overall_rating.groupby(['item'])['rating'].mean()\n",
    "test2 = pd.DataFrame(group_by_item_avg_rating)\n",
    "test2.to_csv('item_avg_rating.csv')\n",
    "\n",
    "item_avg_rating = {}# average rating of each item\n",
    "for index, item in test2.iterrows():\n",
    "    item_count = item_count + 1\n",
    "    item_id = str(index)[4:]\n",
    "    rating = float(item)\n",
    "    item_avg_rating[item_id] = rating\n",
    "    item_total = item_total + rating\n",
    "    \n",
    "#all_item_avg_score = 3.789\n",
    "all_user_avg_score = 3.78\n",
    "    "
   ]
  },
  {
   "cell_type": "code",
   "execution_count": 71,
   "metadata": {
    "collapsed": false
   },
   "outputs": [],
   "source": [
    "test = []\n",
    "for l in open(\"pairs_Rating.txt\"):\n",
    "    u,i = l.strip().split('-')\n",
    "    test.append(i)\n",
    "\n",
    "test_set = []\n",
    "for index, item in test2.iterrows():\n",
    "    item_id = str(index)\n",
    "    test_set.append(item_id)\n",
    "\n",
    "test_set = list(set(test_set))\n",
    "test = list(set(test))\n",
    "\n",
    "all_existing_items = pd.DataFrame(test_set)\n",
    "all_existing_items.columns = ['item']\n",
    "\n",
    "allItems = pd.DataFrame.from_csv(\"test.csv\")\n",
    "allItems.columns = ['item','types','price']\n",
    "allItems['item'] = allItems['item'].astype(str)\n",
    "\n",
    "result = all_existing_items.merge(allItems, left_on='item', right_on='item', how='inner')\n",
    "result.to_csv('all_existing_items_information.csv')"
   ]
  },
  {
   "cell_type": "code",
   "execution_count": 75,
   "metadata": {
    "collapsed": false
   },
   "outputs": [],
   "source": [
    "item_info = pd.read_csv('all_existing_items_information.csv')\n",
    "item_info.columns = ['index','item','types','price']\n",
    "cate_price = item_info.groupby(['types'])['price'].mean()\n",
    "cate_price.to_csv('cate_price.csv')\n",
    "\n",
    "item_price = item_info.groupby(['item'])['price'].mean()\n",
    "item_price.to_csv('item_price.csv')\n",
    "\n",
    "item_info = pd.read_csv('all_existing_items_information.csv')\n",
    "item_info.columns = ['index','item','types','price']\n",
    "cate_price = pd.read_csv('cate_price.csv')\n",
    "cate_price.columns = ['types', 'prices']\n",
    "\n",
    "item_cate_price = item_info.merge(cate_price, left_on='types', right_on='types', how='inner')\n",
    "item_cate_price.to_csv('item_cate_price.csv')"
   ]
  },
  {
   "cell_type": "code",
   "execution_count": 41,
   "metadata": {
    "collapsed": false
   },
   "outputs": [
    {
     "name": "stdout",
     "output_type": "stream",
     "text": [
      "('Coefficients: \\n', array([  4.41506014e-01,   2.11303382e-05,   8.80755253e-01,\n",
      "         1.07855819e-04]))\n",
      "100000\n"
     ]
    }
   ],
   "source": [
    "import csv\n",
    "import pandas as pd\n",
    "import json\n",
    "import numpy as np\n",
    "from sklearn import linear_model\n",
    "\n",
    "reviewerID_asin = pd.read_csv('reviewerID-asin.csv')\n",
    "reviewerID_asin.columns = ['index','user','item','rate']\n",
    "\n",
    "item_avg_rating = pd.read_csv('item_avg_rating.csv')\n",
    "item_avg_rating.columns = ['item','avg_rate']\n",
    "\n",
    "item_price = pd.read_csv('item_price.csv')\n",
    "item_price.columns = ['item','avg_price']\n",
    "\n",
    "user_rate = pd.read_csv('group_by_user_avg_rating.csv')\n",
    "user_rate.columns = ['user','give_rate']\n",
    "\n",
    "item_cate_price = pd.read_csv('item_cate_price.csv')\n",
    "#item_cate_price.columns = ['item','cat','cat_price']\n",
    "item_cate_price.drop(['price', 'index'], axis=1, inplace=True)\n",
    "\n",
    "item_cate_price.columns = ['index', 'item','cat','cat_price']\n",
    "\n",
    "tmp1 = reviewerID_asin.merge(item_avg_rating, left_on='item', right_on='item', how='inner')\n",
    "tmp2 = tmp1.merge(item_price, left_on='item', right_on='item', how='inner')\n",
    "tmp3 = tmp2.merge(user_rate, left_on='user', right_on='user', how='inner')\n",
    "tmp4 = tmp3.merge(item_cate_price, left_on='item', right_on='item', how='inner')\n",
    "tmp4.drop(['index_y', 'index_x'], axis=1, inplace=True)\n",
    "\n",
    "X = tmp4.copy()\n",
    "X.drop(['user', 'item','cat','rate'], axis=1, inplace=True)\n",
    "\n",
    "y = tmp4.copy()\n",
    "y.drop(['user', 'item','cat','avg_price','give_rate', 'cat_price', 'avg_rate'], axis=1, inplace=True)\n",
    "\n",
    "\n",
    "train_X = []\n",
    "for index, item in X.iterrows():\n",
    "    tmp = [round(float(item[0]),2), float(item[1]), float(item[2]), float(item[3])]\n",
    "    train_X.append(tmp)\n",
    "\n",
    "train_Y = []\n",
    "for index, item in y.iterrows():\n",
    "    train_Y.append(float(item[0]))\n",
    "\n",
    "# Create linear regression object\n",
    "regr = linear_model.LinearRegression()\n",
    "my_x = np.array(train_X)\n",
    "my_y = np.array(train_Y)\n",
    "# Train the model using the training sets\n",
    "regr.fit(my_x, my_y)\n",
    "\n",
    "# The coefficients\n",
    "print('Coefficients: \\n', regr.coef_)\n",
    "#avg_rate , avg_price, give_rate, cat_price\n",
    "\n",
    "testing = []\n",
    "for l in open(\"pairs_Rating.txt\"):\n",
    "    u,i = l.strip().split('-')\n",
    "    tmp = [u,i]\n",
    "    testing.append(tmp)\n",
    "    \n",
    "user_item = pd.DataFrame(testing)\n",
    "user_item = user_item[1:]\n",
    "user_item.columns = ['user', 'item']\n",
    "\n",
    "tp1 = user_item.merge(item_avg_rating, left_on='item', right_on='item', how='left')\n",
    "tp2 = tp1.merge(item_price, left_on='item', right_on='item', how='left')\n",
    "tp3 = tp2.merge(user_rate, left_on='user', right_on='user', how='left')\n",
    "tp4 = tp3.merge(item_cate_price, left_on='item', right_on='item', how='left')\n",
    "tp4.drop(['user', 'item','cat','index'], axis=1, inplace=True)\n",
    "\n",
    "tp4.fillna(3.8, inplace=True)\n",
    "testing_x = []\n",
    "for index, item in tp4.iterrows():\n",
    "    tmp = [round(float(item[0]),2), float(item[1]), float(item[2]), float(item[3])]\n",
    "    testing_x.append(tmp)\n",
    "    \n",
    "h = regr.predict(testing_x)\n",
    "\n",
    "print len(h)\n",
    "\n",
    "predictions = open(\"predictions_Rating.txt\", 'w')\n",
    "count = 0\n",
    "for l in open(\"pairs_Rating.txt\"):\n",
    "    if l.startswith(\"reviewerID\"):\n",
    "        #header\n",
    "        predictions.write(l)\n",
    "        continue\n",
    "    u,i = l.strip().split('-')\n",
    "    predictions.write(u + '-' + i + ',' + str(round(h[count],2)) + '\\n')\n",
    "    count = count + 1\n",
    "predictions.close()\n",
    "\n"
   ]
  },
  {
   "cell_type": "markdown",
   "metadata": {
    "collapsed": false
   },
   "source": [
    "# 2.Purchase prediction\n",
    "\n"
   ]
  },
  {
   "cell_type": "code",
   "execution_count": 7,
   "metadata": {
    "collapsed": false
   },
   "outputs": [],
   "source": [
    "import csv\n",
    "import pandas as pd\n",
    "import json\n",
    "import numpy as np\n",
    "from sklearn import linear_model\n",
    "reviewerID_asin = pd.read_csv('reviewerID-asin.csv')\n",
    "reviewerID_asin.columns = ['index','user', 'item', 'score']\n",
    "purchase_times_user = reviewerID_asin.groupby(['user'])['user'].count()\n",
    "purchase_times_user.to_csv('purchase_times_user.csv')\n",
    "\n",
    "purchase_times_item = reviewerID_asin.groupby(['item'])['item'].count()\n",
    "purchase_times_item.to_csv('purchase_times_item.csv')\n",
    "\n"
   ]
  },
  {
   "cell_type": "code",
   "execution_count": 8,
   "metadata": {
    "collapsed": false
   },
   "outputs": [],
   "source": [
    "import csv\n",
    "import pandas as pd\n",
    "import json\n",
    "import numpy as np\n",
    "from sklearn import linear_model\n",
    "\n",
    "\n",
    "\n",
    "reviewerID_asin = pd.read_csv('reviewerID-asin.csv')\n",
    "reviewerID_asin.columns = ['index','user', 'item', 'score']\n",
    "\n",
    "item_avg_rating = pd.read_csv('item_avg_rating.csv')\n",
    "item_avg_rating.columns = ['item','avg_rate']\n",
    "\n",
    "item_price = pd.read_csv('item_price.csv')\n",
    "item_price.columns = ['item','avg_price']\n",
    "\n",
    "user_rate = pd.read_csv('group_by_user_avg_rating.csv')\n",
    "user_rate.columns = ['user','give_rate']\n",
    "\n",
    "purchase_times_item = pd.read_csv('purchase_times_item.csv')\n",
    "purchase_times_item.columns = ['item', 'times']\n",
    "\n",
    "purchase_times_user = pd.read_csv('purchase_times_user.csv')\n",
    "purchase_times_user.columns = ['user', 'times']"
   ]
  },
  {
   "cell_type": "code",
   "execution_count": null,
   "metadata": {
    "collapsed": false
   },
   "outputs": [],
   "source": []
  },
  {
   "cell_type": "markdown",
   "metadata": {},
   "source": [
    "-----------------"
   ]
  },
  {
   "cell_type": "code",
   "execution_count": null,
   "metadata": {
    "collapsed": true
   },
   "outputs": [],
   "source": []
  },
  {
   "cell_type": "code",
   "execution_count": null,
   "metadata": {
    "collapsed": false
   },
   "outputs": [],
   "source": [
    "# Code for setting the style of the notebook\n",
    "from IPython.core.display import HTML\n",
    "def css_styling():\n",
    "    styles = open(\"../theme/custom.css\", \"r\").read()\n",
    "    return HTML(styles)\n",
    "css_styling()"
   ]
  }
 ],
 "metadata": {
  "kernelspec": {
   "display_name": "Python 2",
   "language": "python",
   "name": "python2"
  },
  "language_info": {
   "codemirror_mode": {
    "name": "ipython",
    "version": 2
   },
   "file_extension": ".py",
   "mimetype": "text/x-python",
   "name": "python",
   "nbconvert_exporter": "python",
   "pygments_lexer": "ipython2",
   "version": "2.7.11"
  }
 },
 "nbformat": 4,
 "nbformat_minor": 0
}
