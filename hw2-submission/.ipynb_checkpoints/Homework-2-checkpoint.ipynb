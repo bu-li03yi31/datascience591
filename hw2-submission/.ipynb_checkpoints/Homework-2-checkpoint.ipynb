{
 "cells": [
  {
   "cell_type": "markdown",
   "metadata": {},
   "source": [
    "(In order to load the stylesheet of this notebook, execute the last code cell in this notebook)"
   ]
  },
  {
   "cell_type": "markdown",
   "metadata": {},
   "source": [
    "# Yelp Reviews and Clustering"
   ]
  },
  {
   "cell_type": "markdown",
   "metadata": {},
   "source": [
    "In this assignment, we will be working with the [Yelp dataset](http://cs-people.bu.edu/kzhao/teaching/yelp_dataset_challenge_academic_dataset.tar). You can find the format of the dataset [here](https://www.yelp.com/dataset_challenge)."
   ]
  },
  {
   "cell_type": "code",
   "execution_count": null,
   "metadata": {
    "collapsed": true
   },
   "outputs": [],
   "source": []
  },
  {
   "cell_type": "code",
   "execution_count": null,
   "metadata": {
    "collapsed": true
   },
   "outputs": [],
   "source": []
  },
  {
   "cell_type": "markdown",
   "metadata": {},
   "source": [
    "First, we will look at Review Objects and perform some [sentiment analysis](http://sentiment.christopherpotts.net/) on the review text.\n",
    "\n",
    "You will need to preprocess the text using a stemming algorithm. The Porter stemming algorithm is a well-known one. Then, use a lexicon to assign a score to a review based on the positive/negative words you find in the text. You can find various lexicons [here](http://sentiment.christopherpotts.net/lexicons.html).\n",
    "\n",
    "After you have assigned scores to the reviews based on the text analysis, compare your scores with the stars associated with the reviews. **(20 pts)**"
   ]
  },
  {
   "cell_type": "code",
   "execution_count": 15,
   "metadata": {
    "collapsed": false
   },
   "outputs": [
    {
     "name": "stdout",
     "output_type": "stream",
     "text": [
      "0.378\n"
     ]
    }
   ],
   "source": [
    "import nltk\n",
    "import math\n",
    "import json\n",
    "import nltk.sentiment.util as nsu\n",
    "import nltk.sentiment.vader as nsv\n",
    "from pprint import pprint\n",
    "\n",
    "def halfRound(x):\n",
    "    if(x > 4):\n",
    "        return 5\n",
    "    elif(x >= 3 and x < 3.5):\n",
    "        return 3\n",
    "    elif(x > 3.5 and x <= 4):\n",
    "        return 4\n",
    "    elif(x > 2 and x < 3):\n",
    "        return 2\n",
    "    elif(x < 2):\n",
    "        return 1\n",
    "    return x\n",
    "    \n",
    "def sentenceScore(sentence):\n",
    "    analyzer = nltk.sentiment.vader.SentimentIntensityAnalyzer(lexicon_file='vader_lexicon.txt')\n",
    "    s = analyzer.polarity_scores(sentence)\n",
    "    neg = float(s['neg'])\n",
    "    pos = float(s['pos'])\n",
    "    score = 0\n",
    "    if neg > pos:\n",
    "        score = 5 - ((neg - pos) + 1) * 3\n",
    "    elif neg == pos:\n",
    "        return 3\n",
    "    else:\n",
    "        score = ((pos - neg) + 1) * 3\n",
    "    return halfRound(score);\n",
    "\n",
    "my_dict = {}\n",
    "count = 0\n",
    "match = 0\n",
    "file_name=\"yelp_academic_dataset_review.json\"\n",
    "with open(file_name) as f:\n",
    "    for line in f:\n",
    "        count = count + 1\n",
    "        js = json.loads(line)\n",
    "        buff1 = int(sentenceScore(js[\"text\"]))\n",
    "        buff2 = int(js[\"stars\"])\n",
    "        if buff1 == buff2:\n",
    "            match = match + 1\n",
    "        if(count == 1000):\n",
    "            break\n",
    "print float(match)/float(count)\n",
    "        \n"
   ]
  },
  {
   "cell_type": "markdown",
   "metadata": {},
   "source": [
    "Just some testing code below of nltk package of python"
   ]
  },
  {
   "cell_type": "code",
   "execution_count": null,
   "metadata": {
    "collapsed": false
   },
   "outputs": [],
   "source": [
    "import nltk\n",
    "import math\n",
    "import json\n",
    "import nltk.sentiment.util as nsu\n",
    "import nltk.sentiment.vader as nsv\n",
    " \n",
    "def halfRound(x):\n",
    "    if x % 1 >= 0.5:\n",
    "        return round(x) \n",
    "    else:\n",
    "        return round(x - 0.5)\n",
    "    \n",
    "def sentenceScore(sentence):\n",
    "    analyzer = nltk.sentiment.vader.SentimentIntensityAnalyzer(lexicon_file='vader_lexicon.txt')\n",
    "    s = analyzer.polarity_scores(sentence)\n",
    "    neg = float(s['neg'])\n",
    "    pos = float(s['pos'])\n",
    "    score = 0\n",
    "    if neg > pos:\n",
    "        score = 5 - ((neg - pos) + 1) * 3\n",
    "    elif neg == pos:\n",
    "        return 3\n",
    "    else:\n",
    "        score = ((pos - neg) + 1) * 3\n",
    "    return halfRound(score)\n",
    "\n",
    "sentence = \"i have only had this camera for one full day and i have to say that it is wonderful\"\n",
    "print sentenceScore(sentence)\n",
    "\n",
    "    \n",
    "\n"
   ]
  },
  {
   "cell_type": "code",
   "execution_count": null,
   "metadata": {
    "collapsed": true
   },
   "outputs": [],
   "source": []
  },
  {
   "cell_type": "markdown",
   "metadata": {},
   "source": [
    "Visualization and short (detailed) analysis. **(10 pts)**"
   ]
  },
  {
   "cell_type": "code",
   "execution_count": 37,
   "metadata": {
    "collapsed": false
   },
   "outputs": [
    {
     "data": {
      "text/plain": [
       "<matplotlib.axes._subplots.AxesSubplot at 0x117fa45d0>"
      ]
     },
     "execution_count": 37,
     "metadata": {},
     "output_type": "execute_result"
    },
    {
     "data": {
      "text/plain": [
       "<matplotlib.figure.Figure at 0x11a379790>"
      ]
     },
     "metadata": {},
     "output_type": "display_data"
    },
    {
     "data": {
      "image/png": "[encoded data removed]",
      "text/plain": [
       "<matplotlib.figure.Figure at 0x117b65d50>"
      ]
     },
     "metadata": {},
     "output_type": "display_data"
    }
   ],
   "source": [
    "import pandas as pd\n",
    "import nltk\n",
    "import math\n",
    "import json\n",
    "import nltk.sentiment.util as nsu\n",
    "import nltk.sentiment.vader as nsv\n",
    "from pprint import pprint\n",
    "%matplotlib inline\n",
    "import matplotlib.pyplot as plt\n",
    "import matplotlib\n",
    "matplotlib.style.use('ggplot')\n",
    "\n",
    "def halfRound(x):\n",
    "    if(x > 4):\n",
    "        return 5\n",
    "    elif(x >= 3 and x < 3.5):\n",
    "        return 3\n",
    "    elif(x > 3.5 and x <= 4):\n",
    "        return 4\n",
    "    elif(x > 2 and x < 3):\n",
    "        return 2\n",
    "    elif(x < 2):\n",
    "        return 1\n",
    "    return x\n",
    "    \n",
    "def sentenceScore(sentence):\n",
    "    analyzer = nltk.sentiment.vader.SentimentIntensityAnalyzer(lexicon_file='vader_lexicon.txt')\n",
    "    s = analyzer.polarity_scores(sentence)\n",
    "    neg = float(s['neg'])\n",
    "    pos = float(s['pos'])\n",
    "    score = 0\n",
    "    if neg > pos:\n",
    "        score = 5 - ((neg - pos) + 1) * 3\n",
    "    elif neg == pos:\n",
    "        return 3\n",
    "    else:\n",
    "        score = ((pos - neg) + 1) * 3\n",
    "    return halfRound(score);\n",
    "myList=[]\n",
    "originList=[]\n",
    "countList = []\n",
    "count = 0\n",
    "match = 0\n",
    "file_name=\"yelp_academic_dataset_review.json\"\n",
    "with open(file_name) as f:\n",
    "    for line in f:\n",
    "        countList.append(count)\n",
    "        js = json.loads(line)\n",
    "        buff1 = int(sentenceScore(js[\"text\"]))\n",
    "        myList.append(buff1)\n",
    "        buff2 = int(js[\"stars\"])\n",
    "        originList.append(buff2)\n",
    "        count = count + 1\n",
    "        if(count == 10):\n",
    "            break\n",
    "my_df = pd.DataFrame(myList)\n",
    "origin_df = pd.DataFrame(originList)\n",
    "plt.figure(figsize=(3,4))\n",
    "result = pd.concat([my_df, origin_df], axis=1)\n",
    "result.columns=['prediction', 'rate']\n",
    "result.plot(kind='bar')\n"
   ]
  },
  {
   "cell_type": "markdown",
   "metadata": {},
   "source": [
    "Analysis: The algorithm I am using is to compute the polarity of positive and negative words and convert the ratio between them to score in the range of 1 to 5. In most of the conditions, the difference between prediction and real rating is no larger than 2. So if it's a good restaurant, it could be rated as 4 or 5 stars but the algorithm I am using is not sensitive enough to detect such difference. I think if we use some machine learning model and train the model with some sample data with reviews and ratings. It will be more sensitive to give a precise prediction."
   ]
  },
  {
   "cell_type": "markdown",
   "metadata": {},
   "source": [
    "Now, let's look at Business Objects. Try to find culinary districts in Las Vegas. These are characterized by closeness and similarity of restaurants. Use the \"longitude\" and \"latitude\" to cluster closeness. Use \"categories\" and \"attributes\" to cluster for similarity.\n",
    "\n",
    "Find clusters using the 3 different techniques we discussed in class: k-means++, hierarchical, and GMM. Explain your data representation and how you determined certain parameters (for example, the number of clusters in k-means++). **(30 pts)**\n",
    "\n",
    "Things you may want to consider:\n",
    "1. The spatial coordinates and restaurant categories/attributes have different units of scale. Your results could be arbitrarily skewed if you don't incorporate some scaling.\n",
    "2. Some restaurant types are inherently more common than others. For example, there are probably lots of \"pizza\" restaurants. You may want to normalize your vectors so that you don't end up with only clusters of \"pizza\" restaurants."
   ]
  },
  {
   "cell_type": "code",
   "execution_count": 29,
   "metadata": {
    "collapsed": false
   },
   "outputs": [
    {
     "name": "stdout",
     "output_type": "stream",
     "text": [
      "[3880]\n"
     ]
    }
   ],
   "source": [
    "from random import random\n",
    "from bisect import bisect\n",
    "import numpy as np\n",
    "\n",
    "def weighted_choice(choices):\n",
    "    values, weights = zip(*choices)\n",
    "    total = 0\n",
    "    cum_weights = []\n",
    "    for w in weights:\n",
    "        total += w\n",
    "        cum_weights.append(total)\n",
    "    x = random() * total\n",
    "    i = bisect(cum_weights, x)\n",
    "    return values[i]\n",
    "\n",
    "def kplusplus(k, restaurant):\n",
    "    \"\"\"initialize\"\"\"\n",
    "    x = np.random.randint(4659, size=1)\n",
    "    center = restaurant.items()[x]\n",
    "\n",
    "weighted_choice([(\"WHITE\",90), (\"RED\",8), (\"GREEN\",2)])\n",
    "\n",
    "print x"
   ]
  },
  {
   "cell_type": "code",
   "execution_count": 32,
   "metadata": {
    "collapsed": false
   },
   "outputs": [
    {
     "name": "stdout",
     "output_type": "stream",
     "text": [
      "4658\n",
      "(u'tfcgb7IA_xjiuJonxpA4-A', [[36.1065014765822, -115.172454491258], 4.5, \"[u'Burgers', u'American (Traditional)', u'Asian Fusion', u'Restaurants']\"])\n"
     ]
    }
   ],
   "source": [
    "'''\n",
    "{\n",
    "    'type': 'business',\n",
    "    'business_id': (encrypted business id),\n",
    "    'name': (business name),\n",
    "    'neighborhoods': [(hood names)],\n",
    "    'full_address': (localized address),\n",
    "    'city': (city),\n",
    "    'state': (state),\n",
    "    'latitude': latitude,\n",
    "    'longitude': longitude,\n",
    "    'stars': (star rating, rounded to half-stars),\n",
    "    'review_count': review count,\n",
    "    'categories': [(localized category names)]\n",
    "    'open': True / False (corresponds to closed, not business hours),\n",
    "    'hours': {\n",
    "        (day_of_week): {\n",
    "            'open': (HH:MM),\n",
    "            'close': (HH:MM)\n",
    "        },\n",
    "        ...\n",
    "    },\n",
    "    'attributes': {\n",
    "        (attribute_name): (attribute_value),\n",
    "        ...\n",
    "    },\n",
    "}\n",
    "'''\n",
    "restaurant = {}\n",
    "import json\n",
    "file_name=\"yelp_academic_dataset_business.json\"\n",
    "count = 0\n",
    "with open(file_name) as f:\n",
    "    for line in f:\n",
    "        js = json.loads(line)\n",
    "        city = js['city']\n",
    "        b_type = str(js['categories'])\n",
    "        if(city == \"Las Vegas\" and \"Restaurant\" in b_type):\n",
    "            count = count + 1\n",
    "            bId =  js['business_id']\n",
    "            geo = [float(js['latitude']), float(js['longitude'])]\n",
    "            tmp = [geo, float(js['stars']), b_type]\n",
    "            restaurant[bId] = tmp\n",
    "            \n",
    "print len(restaurant)            \n",
    "print restaurant.items()[0]\n"
   ]
  },
  {
   "cell_type": "code",
   "execution_count": 21,
   "metadata": {
    "collapsed": false
   },
   "outputs": [
    {
     "name": "stdout",
     "output_type": "stream",
     "text": [
      "[2705]\n"
     ]
    }
   ],
   "source": []
  },
  {
   "cell_type": "markdown",
   "metadata": {},
   "source": [
    "Visualize your clusters using each technique. Label your clusters. **(10 pts)**"
   ]
  },
  {
   "cell_type": "code",
   "execution_count": null,
   "metadata": {
    "collapsed": true
   },
   "outputs": [],
   "source": []
  },
  {
   "cell_type": "markdown",
   "metadata": {},
   "source": [
    "Now let's detect outliers. These are the ones who are the farthest from the centroids of their clusters. Track them down and describe any interesting observations that you can make. **(10 pts)**"
   ]
  },
  {
   "cell_type": "code",
   "execution_count": null,
   "metadata": {
    "collapsed": true
   },
   "outputs": [],
   "source": []
  },
  {
   "cell_type": "markdown",
   "metadata": {},
   "source": [
    "Give a short (detailed) analysis comparing the 3 techniques. **(10 pts)**"
   ]
  },
  {
   "cell_type": "markdown",
   "metadata": {},
   "source": []
  },
  {
   "cell_type": "markdown",
   "metadata": {},
   "source": [
    "-----------------"
   ]
  },
  {
   "cell_type": "code",
   "execution_count": null,
   "metadata": {
    "collapsed": false
   },
   "outputs": [],
   "source": [
    "# Code for setting the style of the notebook\n",
    "from IPython.core.display import HTML\n",
    "def css_styling():\n",
    "    styles = open(\"../theme/custom.css\", \"r\").read()\n",
    "    return HTML(styles)\n",
    "css_styling()"
   ]
  }
 ],
 "metadata": {
  "kernelspec": {
   "display_name": "Python 2",
   "language": "python",
   "name": "python2"
  },
  "language_info": {
   "codemirror_mode": {
    "name": "ipython",
    "version": 2
   },
   "file_extension": ".py",
   "mimetype": "text/x-python",
   "name": "python",
   "nbconvert_exporter": "python",
   "pygments_lexer": "ipython2",
   "version": "2.7.11"
  }
 },
 "nbformat": 4,
 "nbformat_minor": 0
}
